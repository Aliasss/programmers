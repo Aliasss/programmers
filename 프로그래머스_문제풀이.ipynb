{
  "nbformat": 4,
  "nbformat_minor": 0,
  "metadata": {
    "colab": {
      "name": "프로그래머스_문제풀이.ipynb",
      "provenance": [],
      "collapsed_sections": [],
      "authorship_tag": "ABX9TyMC1H2UJMWpTR4zTGnoaltX"
    },
    "kernelspec": {
      "name": "python3",
      "display_name": "Python 3"
    },
    "language_info": {
      "name": "python"
    }
  },
  "cells": [
    {
      "cell_type": "code",
      "execution_count": null,
      "metadata": {
        "colab": {
          "base_uri": "https://localhost:8080/"
        },
        "id": "1oDpVIJDO6gQ",
        "outputId": "a18ab73a-0d31-40c7-d3a7-15df7c3b3f28"
      },
      "outputs": [
        {
          "output_type": "stream",
          "name": "stdout",
          "text": [
            "[1, 2, 3, 4, 6, 8, 12, 24]\n",
            "[1, 5, 25]\n",
            "[1, 2, 13, 26]\n",
            "[1, 3, 9, 27]\n"
          ]
        },
        {
          "output_type": "execute_result",
          "data": {
            "text/plain": [
              "52"
            ]
          },
          "metadata": {},
          "execution_count": 1
        }
      ],
      "source": [
        "left = 24\n",
        "right = 27\n",
        "answer = 0\n",
        "\n",
        "for a in range(left, right+1):\n",
        "    n = 0\n",
        "    li = []\n",
        "\n",
        "    while n <= a:\n",
        "        n += 1\n",
        "        if a % n == 0:\n",
        "            li.append(n)\n",
        "        else:\n",
        "            continue\n",
        "    print(li)\n",
        "    if len(li) % 2 == 0: \n",
        "        answer += a\n",
        "    else:\n",
        "        answer -= a\n",
        "\n",
        "answer"
      ]
    },
    {
      "cell_type": "markdown",
      "source": [
        "## 2021 카카오 채용연계형 인턴십 > 숫자 문자열과 영단어\n",
        "https://programmers.co.kr/learn/courses/30/lessons/81301"
      ],
      "metadata": {
        "id": "gz2myxY5fPIw"
      }
    },
    {
      "cell_type": "code",
      "source": [
        "d = {0:'zero', 1:'one', 2:'two', 3:'three', 4:'four', 5:'five', 6:'six', 7:'seven', 8:'eight', 9:'nine'}\n",
        "s = 'one4seveneight'\n",
        "\n",
        "for i, j in d.items():\n",
        "    s = str(i).join(s.split(j))\n",
        "    \n",
        "\n",
        "s = int(s)\n",
        "s"
      ],
      "metadata": {
        "colab": {
          "base_uri": "https://localhost:8080/"
        },
        "id": "N53JBdKuPuKW",
        "outputId": "91c3774a-e2bc-4476-88c4-43957c9cd437"
      },
      "execution_count": null,
      "outputs": [
        {
          "output_type": "execute_result",
          "data": {
            "text/plain": [
              "1478"
            ]
          },
          "metadata": {},
          "execution_count": 18
        }
      ]
    },
    {
      "cell_type": "markdown",
      "source": [
        "## Summer/Winter Coding(~2018) > 예산\n",
        "https://programmers.co.kr/learn/courses/30/lessons/12982"
      ],
      "metadata": {
        "id": "U3Q0b5H8p5AM"
      }
    },
    {
      "cell_type": "code",
      "source": [
        "d = [100]\n",
        "budget = 101\n",
        "result = 0\n",
        "\n",
        "while budget >= min(d):\n",
        "    if min(d) <= budget:\n",
        "        result += 1\n",
        "        budget -= min(d)\n",
        "        d.remove(min(d))\n",
        "    \n",
        "    # 부서가 1개인 경우\n",
        "    if len(d) == 0:\n",
        "        break\n",
        "\n",
        "    # 예산이 0원인 경우\n",
        "    if budget == 0:\n",
        "        break\n",
        "\n",
        "result"
      ],
      "metadata": {
        "id": "EaaSnqJvSZj0",
        "colab": {
          "base_uri": "https://localhost:8080/"
        },
        "outputId": "2a184b27-36fc-47e5-ff05-b5af923b5331"
      },
      "execution_count": null,
      "outputs": [
        {
          "output_type": "execute_result",
          "data": {
            "text/plain": [
              "1"
            ]
          },
          "metadata": {},
          "execution_count": 54
        }
      ]
    },
    {
      "cell_type": "markdown",
      "source": [
        "## Summer/Winter Coding(~2018) > 소수 만들기\n",
        "https://programmers.co.kr/learn/courses/30/lessons/12977"
      ],
      "metadata": {
        "id": "vS4YwvOEujgi"
      }
    },
    {
      "cell_type": "code",
      "source": [
        "from itertools import combinations\n",
        "\n",
        "# nums의 각 요소는 1 이상\n",
        "nums = [1, 2, 3, 4]\n",
        "num_sum = 0\n",
        "result = 0\n",
        "check = []\n",
        "\n",
        "combi = list(combinations(nums, 3))\n",
        "\n",
        "for i in combi:\n",
        "    num_sum = sum(i)\n",
        "    # print(num_sum)\n",
        "    if num_sum == 3:\n",
        "        result += 1\n",
        "\n",
        "    else:\n",
        "        for i in range(2, int(num_sum ** 0.5) + 1):  # 약수, 제곱근 개념\n",
        "            if num_sum % i == 0:\n",
        "                check.append(1)\n",
        "                continue\n",
        "            else:\n",
        "                check.append(0)\n",
        "\n",
        "        if 1 not in check:\n",
        "            result += 1\n",
        "\n",
        "        check = []\n",
        "\n",
        "result"
      ],
      "metadata": {
        "colab": {
          "base_uri": "https://localhost:8080/"
        },
        "id": "9aYvOQ4IqZtV",
        "outputId": "f99cb0f5-b52d-415e-8c73-63ebab7b3dd3"
      },
      "execution_count": null,
      "outputs": [
        {
          "output_type": "execute_result",
          "data": {
            "text/plain": [
              "1"
            ]
          },
          "metadata": {},
          "execution_count": 83
        }
      ]
    },
    {
      "cell_type": "markdown",
      "source": [
        "## 연습문제 > 두 정수 사이의 합\n",
        "https://programmers.co.kr/learn/courses/30/lessons/12912"
      ],
      "metadata": {
        "id": "PrmFQMX4ZMlT"
      }
    },
    {
      "cell_type": "code",
      "source": [
        "a = -1\n",
        "b = 3\n",
        "answer = 0\n",
        "li = []\n",
        "li.extend([a, b])\n",
        "\n",
        "def daeso():\n",
        "    global a, b, answer\n",
        "    if a > b:\n",
        "        a, b = b, a\n",
        "        answer = a\n",
        "    elif a == b:\n",
        "        answer = b\n",
        "    else:\n",
        "        answer = a\n",
        "\n",
        "    return a, b, answer\n",
        "\n",
        "def solution(function):\n",
        "    a, b, answer = function()\n",
        "    global li\n",
        "\n",
        "    if a == b:\n",
        "        return answer\n",
        "\n",
        "    elif a < b:\n",
        "        while answer < b:\n",
        "            answer += 1\n",
        "            if answer < b:\n",
        "                li.append(answer)\n",
        "            \n",
        "        answer = sum(li)\n",
        "\n",
        "    return answer\n",
        "\n",
        "\n",
        "solution(daeso)"
      ],
      "metadata": {
        "id": "R_f9R9pY3CvC",
        "colab": {
          "base_uri": "https://localhost:8080/"
        },
        "outputId": "4522b5ad-aa8a-467c-c574-53ba5bffb684"
      },
      "execution_count": null,
      "outputs": [
        {
          "output_type": "execute_result",
          "data": {
            "text/plain": [
              "5"
            ]
          },
          "metadata": {},
          "execution_count": 52
        }
      ]
    },
    {
      "cell_type": "markdown",
      "source": [
        "## 해시 > 완주하지 못한 선수\n",
        "https://programmers.co.kr/learn/courses/30/lessons/42576"
      ],
      "metadata": {
        "id": "KAeGotExiLW1"
      }
    },
    {
      "cell_type": "code",
      "source": [
        "# from collections import OrderedDict\n",
        "\n",
        "# 라스트 인덱스 활용 (효율성 테스트까지 전부 통과하지만 해시를 사용한 방법은 아님)\n",
        "# def solution(participant, completion):\n",
        "#     participant.sort()\n",
        "#     completion.sort()\n",
        "#     for i in range(len(completion)):\n",
        "#         if participant[i] != completion[i]:\n",
        "#             return participant[i]\n",
        "#     return participant[len(participant)-1]\n",
        "\n",
        "# 아래 방법은 효율성 테스트 0점\n",
        "# for i in participant:\n",
        "#     if i in completion:\n",
        "#         completion.remove(i)\n",
        "#     else:\n",
        "#         print(i)\n",
        "\n",
        "\n",
        "# 해시(hash)를 활용하자!\n",
        "# di = {}\n",
        "# for i in participant:\n",
        "#     di[hash(i)] = i   # hash(i)를 쓰면 중복된 mislav는 하나만 들어감 -> 딕셔너리를 직접 만들자\n",
        "\n",
        "\n",
        "# 해시(hash)를 활용하자! (2)\n",
        "# 이것도 효율성 0점 코드\n",
        "# participant = [\"mislav\", \"stanko\", \"mislav\", \"ana\"]\n",
        "# completion = [\"stanko\", \"ana\", \"mislav\"]\n",
        "# di = {}\n",
        "# sum_hash = 0\n",
        "\n",
        "# for i, j in enumerate(participant):\n",
        "#     di[i] = j\n",
        "#     sum_hash += i\n",
        "\n",
        "# print(di)\n",
        "# print(sum_hash)\n",
        "\n",
        "# for i in completion:\n",
        "#     sum_hash -= list(di.keys())[list(di.values()).index(i)] # 리스트의 index 메소드\n",
        "#     del di[list(di.keys())[list(di.values()).index(i)]]\n",
        "#     # di.pop(list(di.keys())[list(di.values()).index(i)])\n",
        "    \n",
        "# di[sum_hash]\n",
        "\n",
        "\n",
        "# collections 모듈 활용\n",
        "from collections import Counter\n",
        "# participant = [\"mislav\", \"stanko\", \"mislav\", \"ana\"]\n",
        "# completion = [\"stanko\", \"ana\", \"mislav\"]\n",
        "\n",
        "# part = Counter(participant)\n",
        "# comp = Counter(completion)\n",
        "\n",
        "# list(part-comp)[0]\n",
        "\n",
        "\n",
        "# 해시 사용(단, 해시 충돌 발생시 오류)\n",
        "participant = [\"mislav\", \"stanko\", \"mislav\", \"ana\"]\n",
        "completion = [\"stanko\", \"ana\", \"mislav\"]\n",
        "answer = ''\n",
        "temp = 0\n",
        "dic = {}\n",
        "for part in participant:\n",
        "    dic[hash(part)] = part\n",
        "    temp += int(hash(part))\n",
        "print(dic)\n",
        "print(temp)\n",
        "for com in completion:\n",
        "    temp -= hash(com)\n",
        "answer = dic[temp]\n",
        "\n",
        "print(answer)"
      ],
      "metadata": {
        "colab": {
          "base_uri": "https://localhost:8080/"
        },
        "id": "ATgrg8l4abHn",
        "outputId": "86a540d0-af58-4d8d-9494-e4e670081f59"
      },
      "execution_count": null,
      "outputs": [
        {
          "output_type": "stream",
          "name": "stdout",
          "text": [
            "{-1227185523046631808: 'mislav', 6666071351599422685: 'stanko', -4070139377909171999: 'ana'}\n",
            "141560927596987070\n",
            "mislav\n"
          ]
        }
      ]
    },
    {
      "cell_type": "code",
      "source": [
        ""
      ],
      "metadata": {
        "colab": {
          "base_uri": "https://localhost:8080/",
          "height": 36
        },
        "id": "1q9ld1xHmY_H",
        "outputId": "5ae55b0c-8edf-4a1c-bbc5-0425aded1c70"
      },
      "execution_count": null,
      "outputs": [
        {
          "output_type": "execute_result",
          "data": {
            "text/plain": [
              "'mislav'"
            ],
            "application/vnd.google.colaboratory.intrinsic+json": {
              "type": "string"
            }
          },
          "metadata": {},
          "execution_count": 4
        }
      ]
    },
    {
      "cell_type": "code",
      "source": [
        ""
      ],
      "metadata": {
        "colab": {
          "base_uri": "https://localhost:8080/"
        },
        "id": "R-7vDR51w5ET",
        "outputId": "97ef1137-6baa-4a34-e9e0-85dc69fbecd4"
      },
      "execution_count": null,
      "outputs": [
        {
          "output_type": "execute_result",
          "data": {
            "text/plain": [
              "5"
            ]
          },
          "metadata": {},
          "execution_count": 135
        }
      ]
    },
    {
      "cell_type": "code",
      "source": [
        ""
      ],
      "metadata": {
        "id": "2ykSW8pnxAtX"
      },
      "execution_count": null,
      "outputs": []
    }
  ]
}