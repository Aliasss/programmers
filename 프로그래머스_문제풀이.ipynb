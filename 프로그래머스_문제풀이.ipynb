{
  "nbformat": 4,
  "nbformat_minor": 0,
  "metadata": {
    "colab": {
      "name": "프로그래머스_문제풀이.ipynb",
      "provenance": [],
      "collapsed_sections": [],
      "authorship_tag": "ABX9TyNko+kwgoeuGL54g2128SXM",
      "include_colab_link": true
    },
    "kernelspec": {
      "name": "python3",
      "display_name": "Python 3"
    },
    "language_info": {
      "name": "python"
    }
  },
  "cells": [
    {
      "cell_type": "markdown",
      "metadata": {
        "id": "view-in-github",
        "colab_type": "text"
      },
      "source": [
        "<a href=\"https://colab.research.google.com/github/Aliasss/programmers/blob/master/%ED%94%84%EB%A1%9C%EA%B7%B8%EB%9E%98%EB%A8%B8%EC%8A%A4_%EB%AC%B8%EC%A0%9C%ED%92%80%EC%9D%B4.ipynb\" target=\"_parent\"><img src=\"https://colab.research.google.com/assets/colab-badge.svg\" alt=\"Open In Colab\"/></a>"
      ]
    },
    {
      "cell_type": "code",
      "execution_count": null,
      "metadata": {
        "colab": {
          "base_uri": "https://localhost:8080/"
        },
        "id": "1oDpVIJDO6gQ",
        "outputId": "a18ab73a-0d31-40c7-d3a7-15df7c3b3f28"
      },
      "outputs": [
        {
          "output_type": "stream",
          "name": "stdout",
          "text": [
            "[1, 2, 3, 4, 6, 8, 12, 24]\n",
            "[1, 5, 25]\n",
            "[1, 2, 13, 26]\n",
            "[1, 3, 9, 27]\n"
          ]
        },
        {
          "output_type": "execute_result",
          "data": {
            "text/plain": [
              "52"
            ]
          },
          "metadata": {},
          "execution_count": 1
        }
      ],
      "source": [
        "left = 24\n",
        "right = 27\n",
        "answer = 0\n",
        "\n",
        "for a in range(left, right+1):\n",
        "    n = 0\n",
        "    li = []\n",
        "\n",
        "    while n <= a:\n",
        "        n += 1\n",
        "        if a % n == 0:\n",
        "            li.append(n)\n",
        "        else:\n",
        "            continue\n",
        "    print(li)\n",
        "    if len(li) % 2 == 0: \n",
        "        answer += a\n",
        "    else:\n",
        "        answer -= a\n",
        "\n",
        "answer"
      ]
    },
    {
      "cell_type": "markdown",
      "source": [
        "## 2021 카카오 채용연계형 인턴십 > 숫자 문자열과 영단어\n",
        "https://programmers.co.kr/learn/courses/30/lessons/81301"
      ],
      "metadata": {
        "id": "gz2myxY5fPIw"
      }
    },
    {
      "cell_type": "code",
      "source": [
        "d = {0:'zero', 1:'one', 2:'two', 3:'three', 4:'four', 5:'five', 6:'six', 7:'seven', 8:'eight', 9:'nine'}\n",
        "s = 'one4seveneight'\n",
        "\n",
        "for i, j in d.items():\n",
        "    s = str(i).join(s.split(j))\n",
        "    \n",
        "\n",
        "s = int(s)\n",
        "s"
      ],
      "metadata": {
        "colab": {
          "base_uri": "https://localhost:8080/"
        },
        "id": "N53JBdKuPuKW",
        "outputId": "91c3774a-e2bc-4476-88c4-43957c9cd437"
      },
      "execution_count": null,
      "outputs": [
        {
          "output_type": "execute_result",
          "data": {
            "text/plain": [
              "1478"
            ]
          },
          "metadata": {},
          "execution_count": 18
        }
      ]
    },
    {
      "cell_type": "markdown",
      "source": [
        "## Summer/Winter Coding(~2018) > 예산\n",
        "https://programmers.co.kr/learn/courses/30/lessons/12982"
      ],
      "metadata": {
        "id": "U3Q0b5H8p5AM"
      }
    },
    {
      "cell_type": "code",
      "source": [
        "d = [100]\n",
        "budget = 101\n",
        "result = 0\n",
        "\n",
        "while budget >= min(d):\n",
        "    if min(d) <= budget:\n",
        "        result += 1\n",
        "        budget -= min(d)\n",
        "        d.remove(min(d))\n",
        "    \n",
        "    # 부서가 1개인 경우\n",
        "    if len(d) == 0:\n",
        "        break\n",
        "\n",
        "    # 예산이 0원인 경우\n",
        "    if budget == 0:\n",
        "        break\n",
        "\n",
        "result"
      ],
      "metadata": {
        "id": "EaaSnqJvSZj0",
        "colab": {
          "base_uri": "https://localhost:8080/"
        },
        "outputId": "2a184b27-36fc-47e5-ff05-b5af923b5331"
      },
      "execution_count": null,
      "outputs": [
        {
          "output_type": "execute_result",
          "data": {
            "text/plain": [
              "1"
            ]
          },
          "metadata": {},
          "execution_count": 54
        }
      ]
    },
    {
      "cell_type": "markdown",
      "source": [
        "## Summer/Winter Coding(~2018) > 소수 만들기\n",
        "https://programmers.co.kr/learn/courses/30/lessons/12977"
      ],
      "metadata": {
        "id": "vS4YwvOEujgi"
      }
    },
    {
      "cell_type": "code",
      "source": [
        "from itertools import combinations\n",
        "\n",
        "# nums의 각 요소는 1 이상\n",
        "nums = [1, 2, 3, 4]\n",
        "num_sum = 0\n",
        "result = 0\n",
        "check = []\n",
        "\n",
        "combi = list(combinations(nums, 3))\n",
        "\n",
        "for i in combi:\n",
        "    num_sum = sum(i)\n",
        "    # print(num_sum)\n",
        "    if num_sum == 3:\n",
        "        result += 1\n",
        "\n",
        "    else:\n",
        "        for i in range(2, int(num_sum ** 0.5) + 1):  # 약수, 제곱근 개념\n",
        "            if num_sum % i == 0:\n",
        "                check.append(1)\n",
        "                continue\n",
        "            else:\n",
        "                check.append(0)\n",
        "\n",
        "        if 1 not in check:\n",
        "            result += 1\n",
        "\n",
        "        check = []\n",
        "\n",
        "result"
      ],
      "metadata": {
        "colab": {
          "base_uri": "https://localhost:8080/"
        },
        "id": "9aYvOQ4IqZtV",
        "outputId": "f99cb0f5-b52d-415e-8c73-63ebab7b3dd3"
      },
      "execution_count": null,
      "outputs": [
        {
          "output_type": "execute_result",
          "data": {
            "text/plain": [
              "1"
            ]
          },
          "metadata": {},
          "execution_count": 83
        }
      ]
    },
    {
      "cell_type": "markdown",
      "source": [
        "## 연습문제 > 두 정수 사이의 합\n",
        "https://programmers.co.kr/learn/courses/30/lessons/12912"
      ],
      "metadata": {
        "id": "PrmFQMX4ZMlT"
      }
    },
    {
      "cell_type": "code",
      "source": [
        "a = -1\n",
        "b = 3\n",
        "answer = 0\n",
        "li = []\n",
        "li.extend([a, b])\n",
        "\n",
        "def daeso():\n",
        "    global a, b, answer\n",
        "    if a > b:\n",
        "        a, b = b, a\n",
        "        answer = a\n",
        "    elif a == b:\n",
        "        answer = b\n",
        "    else:\n",
        "        answer = a\n",
        "\n",
        "    return a, b, answer\n",
        "\n",
        "def solution(function):\n",
        "    a, b, answer = function()\n",
        "    global li\n",
        "\n",
        "    if a == b:\n",
        "        return answer\n",
        "\n",
        "    elif a < b:\n",
        "        while answer < b:\n",
        "            answer += 1\n",
        "            if answer < b:\n",
        "                li.append(answer)\n",
        "            \n",
        "        answer = sum(li)\n",
        "\n",
        "    return answer\n",
        "\n",
        "\n",
        "solution(daeso)"
      ],
      "metadata": {
        "id": "R_f9R9pY3CvC",
        "colab": {
          "base_uri": "https://localhost:8080/"
        },
        "outputId": "4522b5ad-aa8a-467c-c574-53ba5bffb684"
      },
      "execution_count": null,
      "outputs": [
        {
          "output_type": "execute_result",
          "data": {
            "text/plain": [
              "5"
            ]
          },
          "metadata": {},
          "execution_count": 52
        }
      ]
    },
    {
      "cell_type": "markdown",
      "source": [
        "## 해시 > 완주하지 못한 선수\n",
        "https://programmers.co.kr/learn/courses/30/lessons/42576"
      ],
      "metadata": {
        "id": "KAeGotExiLW1"
      }
    },
    {
      "cell_type": "code",
      "source": [
        "# from collections import OrderedDict\n",
        "\n",
        "# 라스트 인덱스 활용 (효율성 테스트까지 전부 통과하지만 해시를 사용한 방법은 아님)\n",
        "# def solution(participant, completion):\n",
        "#     participant.sort()\n",
        "#     completion.sort()\n",
        "#     for i in range(len(completion)):\n",
        "#         if participant[i] != completion[i]:\n",
        "#             return participant[i]\n",
        "#     return participant[len(participant)-1]\n",
        "\n",
        "# 아래 방법은 효율성 테스트 0점\n",
        "# for i in participant:\n",
        "#     if i in completion:\n",
        "#         completion.remove(i)\n",
        "#     else:\n",
        "#         print(i)\n",
        "\n",
        "\n",
        "# 해시(hash)를 활용하자!\n",
        "# di = {}\n",
        "# for i in participant:\n",
        "#     di[hash(i)] = i   # hash(i)를 쓰면 중복된 mislav는 하나만 들어감 -> 딕셔너리를 직접 만들자\n",
        "\n",
        "\n",
        "# 해시(hash)를 활용하자! (2)\n",
        "# 이것도 효율성 0점 코드\n",
        "# participant = [\"mislav\", \"stanko\", \"mislav\", \"ana\"]\n",
        "# completion = [\"stanko\", \"ana\", \"mislav\"]\n",
        "# di = {}\n",
        "# sum_hash = 0\n",
        "\n",
        "# for i, j in enumerate(participant):\n",
        "#     di[i] = j\n",
        "#     sum_hash += i\n",
        "\n",
        "# print(di)\n",
        "# print(sum_hash)\n",
        "\n",
        "# for i in completion:\n",
        "#     sum_hash -= list(di.keys())[list(di.values()).index(i)] # 리스트의 index 메소드\n",
        "#     del di[list(di.keys())[list(di.values()).index(i)]]\n",
        "#     # di.pop(list(di.keys())[list(di.values()).index(i)])\n",
        "    \n",
        "# di[sum_hash]\n",
        "\n",
        "\n",
        "# collections 모듈 활용\n",
        "from collections import Counter\n",
        "# participant = [\"mislav\", \"stanko\", \"mislav\", \"ana\"]\n",
        "# completion = [\"stanko\", \"ana\", \"mislav\"]\n",
        "\n",
        "# part = Counter(participant)\n",
        "# comp = Counter(completion)\n",
        "\n",
        "# list(part-comp)[0]\n",
        "\n",
        "\n",
        "# 해시 사용(단, 해시 충돌 발생시 오류)\n",
        "participant = [\"mislav\", \"stanko\", \"mislav\", \"ana\"]\n",
        "completion = [\"stanko\", \"ana\", \"mislav\"]\n",
        "answer = ''\n",
        "temp = 0\n",
        "dic = {}\n",
        "for part in participant:\n",
        "    dic[hash(part)] = part\n",
        "    temp += int(hash(part))\n",
        "print(dic)\n",
        "print(temp)\n",
        "for com in completion:\n",
        "    temp -= hash(com)\n",
        "answer = dic[temp]\n",
        "\n",
        "print(answer)"
      ],
      "metadata": {
        "colab": {
          "base_uri": "https://localhost:8080/"
        },
        "id": "ATgrg8l4abHn",
        "outputId": "86a540d0-af58-4d8d-9494-e4e670081f59"
      },
      "execution_count": null,
      "outputs": [
        {
          "output_type": "stream",
          "name": "stdout",
          "text": [
            "{-1227185523046631808: 'mislav', 6666071351599422685: 'stanko', -4070139377909171999: 'ana'}\n",
            "141560927596987070\n",
            "mislav\n"
          ]
        }
      ]
    },
    {
      "cell_type": "markdown",
      "source": [
        "## 연습문제 > 행렬의 덧셈\n",
        "https://programmers.co.kr/learn/courses/30/lessons/12950"
      ],
      "metadata": {
        "id": "1q9ld1xHmY_H"
      }
    },
    {
      "cell_type": "code",
      "source": [
        "arr1 = [[1,2],[2,3]]\n",
        "arr2 = [[3,4],[5,6]]\n",
        "li = []\n",
        "answer = []\n",
        "\n",
        "for i, j in zip(arr1, arr2):\n",
        "    li = []\n",
        "    for k in range(len(i)):\n",
        "        li.append(i[k] + j[k])\n",
        "    answer.append(li)\n",
        "    \n",
        "answer"
      ],
      "metadata": {
        "colab": {
          "base_uri": "https://localhost:8080/"
        },
        "id": "R-7vDR51w5ET",
        "outputId": "d17ab8f5-25ac-4c06-dd06-e683074ca036"
      },
      "execution_count": null,
      "outputs": [
        {
          "output_type": "execute_result",
          "data": {
            "text/plain": [
              "[[4, 6], [7, 9]]"
            ]
          },
          "metadata": {},
          "execution_count": 55
        }
      ]
    },
    {
      "cell_type": "markdown",
      "source": [
        "## 연습문제 > 문자열 내 p와 y의 개수\n",
        "https://programmers.co.kr/learn/courses/30/lessons/12916"
      ],
      "metadata": {
        "id": "rIw_3OzTR4nT"
      }
    },
    {
      "cell_type": "code",
      "source": [
        "from collections import Counter\n",
        "s = \"Pyy\"\n",
        "di = Counter(s.lower())\n",
        "if di['p'] == di['y']:\n",
        "    print(True)\n",
        "elif di['p'] != di['y']:\n",
        "    print(False)\n",
        "elif (di['p'] == di['y']) & (di['p'] == 0):\n",
        "    print(True)"
      ],
      "metadata": {
        "colab": {
          "base_uri": "https://localhost:8080/"
        },
        "id": "1RQ_NPejUYnq",
        "outputId": "116a3f9b-96e2-4ebb-e8b1-0b9c960fe4b7"
      },
      "execution_count": null,
      "outputs": [
        {
          "output_type": "stream",
          "name": "stdout",
          "text": [
            "False\n"
          ]
        }
      ]
    },
    {
      "cell_type": "code",
      "source": [
        "s = 'p'\n",
        "s = s.lower()\n",
        "\n",
        "if s.count('p') == s.count('y'):\n",
        "        print(True)\n",
        "elif s.count('p') != s.count('y'):\n",
        "        print(False)\n",
        "elif ('p' not in s) and ('y' not in s):\n",
        "    print(True)"
      ],
      "metadata": {
        "colab": {
          "base_uri": "https://localhost:8080/"
        },
        "id": "LbU0Ns2-U-hP",
        "outputId": "669afdec-0295-4aa3-c89f-484d8452a08b"
      },
      "execution_count": null,
      "outputs": [
        {
          "output_type": "stream",
          "name": "stdout",
          "text": [
            "False\n"
          ]
        }
      ]
    },
    {
      "cell_type": "markdown",
      "source": [
        "## 연습문제 > 문자열 내 마음대로 정렬하기\n",
        "https://programmers.co.kr/learn/courses/30/lessons/12915"
      ],
      "metadata": {
        "id": "89KIPurSVyEl"
      }
    },
    {
      "cell_type": "code",
      "source": [
        "from collections import Counter\n",
        "\n",
        "strings = [\"abce\", \"abcd\", \"cdx\"]\n",
        "n = 1\n",
        "di = {}\n",
        "li = []\n",
        "\n",
        "# 인덱스 n에 따라 정렬\n",
        "sorted(strings, key = lambda x: x[n])\n",
        "\n",
        "# 인덱스 value가 동일한 경우 체크\n",
        "for i in strings:\n",
        "    di[i] = i[n]\n",
        "    li.append(i[n])\n",
        "\n",
        "count = Counter(li)\n",
        "\n",
        "# 중복이 있는지 확인\n",
        "for i, j in di.items():\n",
        "    try:\n",
        "        if len(set(li)) < len(li):\n",
        "            if \n",
        "\n",
        "        # 중복 존재하지 않으면 break        \n",
        "        else:\n",
        "            break\n",
        "            \n",
        "\n",
        "    except Exception as E:\n",
        "        break\n",
        "\n",
        "print(di)\n",
        "print(li)\n",
        "print(strings)\n",
        "# if Counter(li)\n"
      ],
      "metadata": {
        "colab": {
          "base_uri": "https://localhost:8080/"
        },
        "id": "DqF-YRY1bgOP",
        "outputId": "dd06cc59-ad54-4793-f5b8-10190f6be11e"
      },
      "execution_count": null,
      "outputs": [
        {
          "output_type": "stream",
          "name": "stdout",
          "text": [
            "{'abce': 'b', 'abcd': 'b', 'cdx': 'd'}\n",
            "['b', 'b', 'd']\n",
            "['abce', 'abcd', 'cdx']\n"
          ]
        }
      ]
    },
    {
      "cell_type": "code",
      "source": [
        "Counter(li)"
      ],
      "metadata": {
        "colab": {
          "base_uri": "https://localhost:8080/"
        },
        "id": "O2Z2-_qudkkV",
        "outputId": "07b4e74b-26f3-454b-f49c-ae0e028e269b"
      },
      "execution_count": null,
      "outputs": [
        {
          "output_type": "execute_result",
          "data": {
            "text/plain": [
              "Counter({'b': 2, 'd': 1})"
            ]
          },
          "metadata": {},
          "execution_count": 15
        }
      ]
    },
    {
      "cell_type": "code",
      "source": [
        "Counter(li).list(filter(lambda x: x>1, list(Counter(li).values())))[0]"
      ],
      "metadata": {
        "colab": {
          "base_uri": "https://localhost:8080/"
        },
        "id": "XQNgImv-fNo0",
        "outputId": "2d483cd5-aa79-49b3-bce6-65fb3246a7dc"
      },
      "execution_count": null,
      "outputs": [
        {
          "output_type": "execute_result",
          "data": {
            "text/plain": [
              "2"
            ]
          },
          "metadata": {},
          "execution_count": 16
        }
      ]
    },
    {
      "cell_type": "code",
      "source": [
        "for i, j in Counter(li).items():\n",
        "    if j == list(filter(lambda x: x>1, list(Counter(li).values())))[0]:\n",
        "        for i in strings:\n",
        "            i[n] == "
      ],
      "metadata": {
        "colab": {
          "base_uri": "https://localhost:8080/"
        },
        "id": "7wQ6cjOtf4yS",
        "outputId": "934cf953-5cb9-4e0c-fb92-3bf50d661682"
      },
      "execution_count": null,
      "outputs": [
        {
          "output_type": "stream",
          "name": "stdout",
          "text": [
            "b\n"
          ]
        }
      ]
    },
    {
      "cell_type": "code",
      "source": [
        "len(set(li))"
      ],
      "metadata": {
        "colab": {
          "base_uri": "https://localhost:8080/"
        },
        "id": "jSSNEfEjhKQP",
        "outputId": "0dd3cc53-ed0a-4711-b801-8723230c1a44"
      },
      "execution_count": null,
      "outputs": [
        {
          "output_type": "execute_result",
          "data": {
            "text/plain": [
              "2"
            ]
          },
          "metadata": {},
          "execution_count": 8
        }
      ]
    },
    {
      "cell_type": "code",
      "source": [
        "bb = [1, 2, 4, 3]\n",
        "bb.pop(2)\n",
        "bb.insert(2, 3)\n",
        "bb"
      ],
      "metadata": {
        "colab": {
          "base_uri": "https://localhost:8080/"
        },
        "id": "EtToWs-Jpd02",
        "outputId": "691b92a6-50f1-4bd9-8b81-e2ec4d64bcfa"
      },
      "execution_count": null,
      "outputs": [
        {
          "output_type": "execute_result",
          "data": {
            "text/plain": [
              "[1, 2, 3, 3]"
            ]
          },
          "metadata": {},
          "execution_count": 13
        }
      ]
    },
    {
      "cell_type": "code",
      "source": [
        "bb"
      ],
      "metadata": {
        "colab": {
          "base_uri": "https://localhost:8080/"
        },
        "id": "4ecLxVg7cZuV",
        "outputId": "561b9d5f-33cc-479c-9c16-621657dd04f0"
      },
      "execution_count": null,
      "outputs": [
        {
          "output_type": "execute_result",
          "data": {
            "text/plain": [
              "[1, 2, 3, 4, 3]"
            ]
          },
          "metadata": {},
          "execution_count": 10
        }
      ]
    },
    {
      "cell_type": "markdown",
      "source": [
        "## 같은 숫자는 싫어\n",
        "https://programmers.co.kr/learn/courses/30/lessons/12906"
      ],
      "metadata": {
        "id": "FnQPC_z6yHfG"
      }
    },
    {
      "cell_type": "code",
      "source": [
        "arr = [1, 1, 3, 3, 0, 1, 1]\n",
        "li = []\n",
        "\n",
        "for i, j in enumerate(arr):\n",
        "    if i == 0:  # 첫번째 숫자이면\n",
        "        li.append(j)\n",
        "\n",
        "    else:\n",
        "        if j == li[-1]:\n",
        "            continue\n",
        "        else:\n",
        "            li.append(j)"
      ],
      "metadata": {
        "id": "iwjY_bmtcaQl"
      },
      "execution_count": null,
      "outputs": []
    },
    {
      "cell_type": "markdown",
      "source": [
        "## 문자열 내림차순으로 배치하기\n",
        "https://programmers.co.kr/learn/courses/30/lessons/12917"
      ],
      "metadata": {
        "id": "-8yHnpns2apM"
      }
    },
    {
      "cell_type": "code",
      "source": [
        "s = \"Zbcdefg\"\n",
        "''.join(sorted(s, reverse=True))"
      ],
      "metadata": {
        "colab": {
          "base_uri": "https://localhost:8080/",
          "height": 36
        },
        "id": "SxfXgt3w2YhC",
        "outputId": "e6666442-946a-40f0-9620-a4522c1ab662"
      },
      "execution_count": null,
      "outputs": [
        {
          "output_type": "execute_result",
          "data": {
            "text/plain": [
              "'gfedcbZ'"
            ],
            "application/vnd.google.colaboratory.intrinsic+json": {
              "type": "string"
            }
          },
          "metadata": {},
          "execution_count": 27
        }
      ]
    },
    {
      "cell_type": "markdown",
      "source": [
        "## 부족한 금액 계산하기\n",
        "https://programmers.co.kr/learn/courses/30/lessons/82612"
      ],
      "metadata": {
        "id": "enHnK86C5J92"
      }
    },
    {
      "cell_type": "code",
      "source": [
        "price = 3\n",
        "money = 20\n",
        "count = 4\n",
        "\n",
        "answer = money - sum([price*i for i in range(1, count+1)])\n",
        "\n",
        "if answer < 0:\n",
        "    answer = abs(answer)\n",
        "else:\n",
        "    answer = 0\n",
        "\n",
        "print(answer)"
      ],
      "metadata": {
        "colab": {
          "base_uri": "https://localhost:8080/"
        },
        "id": "nf-ZxuGc0n8s",
        "outputId": "8c105219-3e31-4e56-ddca-24652f898b3f"
      },
      "execution_count": null,
      "outputs": [
        {
          "output_type": "stream",
          "name": "stdout",
          "text": [
            "10\n"
          ]
        }
      ]
    },
    {
      "cell_type": "markdown",
      "source": [
        "## 서울에서 김서방 찾기\n",
        "https://programmers.co.kr/learn/courses/30/lessons/12919"
      ],
      "metadata": {
        "id": "gYuboIh3bmF0"
      }
    },
    {
      "cell_type": "code",
      "source": [
        "seoul = ['Jane', 'Kim']\n",
        "answer = f\"김서방은 {seoul.index('Kim')}에 있다\"\n",
        "print(answer)"
      ],
      "metadata": {
        "colab": {
          "base_uri": "https://localhost:8080/"
        },
        "id": "J3lS_6tSheZ7",
        "outputId": "ee0152f6-3b80-4aac-cb32-6201b00f500b"
      },
      "execution_count": null,
      "outputs": [
        {
          "output_type": "stream",
          "name": "stdout",
          "text": [
            "김서방은 1에 있다\n"
          ]
        }
      ]
    },
    {
      "cell_type": "markdown",
      "source": [
        "## 문자열 다루기 기본\n",
        "https://programmers.co.kr/learn/courses/30/lessons/12918"
      ],
      "metadata": {
        "id": "NSt5euWShw-O"
      }
    },
    {
      "cell_type": "code",
      "source": [
        "s = \"134\"\n",
        "answer = True\n",
        "\n",
        "if (len(s) == 4) or (len(s) == 6):\n",
        "    try: \n",
        "        s = int(s)\n",
        "        print(answer)\n",
        "\n",
        "    except Exception as E:\n",
        "        answer = False\n",
        "        print(answer)\n",
        "else:\n",
        "    answer = False\n",
        "    print(answer)"
      ],
      "metadata": {
        "colab": {
          "base_uri": "https://localhost:8080/"
        },
        "id": "gPqddX06iS9V",
        "outputId": "b478e224-a9fe-47c7-89a7-8bd749ccd3de"
      },
      "execution_count": null,
      "outputs": [
        {
          "output_type": "stream",
          "name": "stdout",
          "text": [
            "False\n"
          ]
        }
      ]
    },
    {
      "cell_type": "markdown",
      "source": [
        "## 문자열을 정수로 바꾸기\n",
        "https://programmers.co.kr/learn/courses/30/lessons/12925"
      ],
      "metadata": {
        "id": "q4ufQ7fOieOv"
      }
    },
    {
      "cell_type": "code",
      "source": [
        "s = '1234'\n",
        "\n",
        "answer = int(s)\n",
        "print(answer)"
      ],
      "metadata": {
        "colab": {
          "base_uri": "https://localhost:8080/"
        },
        "id": "AA-lDUMHj_r-",
        "outputId": "13cec028-c86c-4b8c-a4d9-f0c3a92cc88d"
      },
      "execution_count": null,
      "outputs": [
        {
          "output_type": "stream",
          "name": "stdout",
          "text": [
            "1234\n"
          ]
        }
      ]
    },
    {
      "cell_type": "markdown",
      "source": [
        "## 수박수박수박수박수?\n",
        "https://programmers.co.kr/learn/courses/30/lessons/12922"
      ],
      "metadata": {
        "id": "cW3OTlRxlWrJ"
      }
    },
    {
      "cell_type": "code",
      "source": [
        "n = 3\n",
        "s = '수박' * 5000\n",
        "\n",
        "answer = s[:n]\n",
        "answer"
      ],
      "metadata": {
        "colab": {
          "base_uri": "https://localhost:8080/",
          "height": 36
        },
        "id": "sjyK6iwBlYTK",
        "outputId": "f61b2e0b-99e0-4de3-a8a5-c22dbcdbb118"
      },
      "execution_count": null,
      "outputs": [
        {
          "output_type": "execute_result",
          "data": {
            "text/plain": [
              "'수박수'"
            ],
            "application/vnd.google.colaboratory.intrinsic+json": {
              "type": "string"
            }
          },
          "metadata": {},
          "execution_count": 30
        }
      ]
    },
    {
      "cell_type": "code",
      "source": [
        ""
      ],
      "metadata": {
        "id": "hzlNZU44ovQe"
      },
      "execution_count": null,
      "outputs": []
    },
    {
      "cell_type": "code",
      "source": [
        ""
      ],
      "metadata": {
        "id": "1E79a51g1SAt"
      },
      "execution_count": null,
      "outputs": []
    },
    {
      "cell_type": "code",
      "source": [
        ""
      ],
      "metadata": {
        "id": "G2QpGspF1R96"
      },
      "execution_count": null,
      "outputs": []
    },
    {
      "cell_type": "markdown",
      "source": [
        "# Level 2"
      ],
      "metadata": {
        "id": "zhaDSvQR1SXb"
      }
    },
    {
      "cell_type": "markdown",
      "source": [
        "## 스킬트리\n",
        "https://programmers.co.kr/learn/courses/30/lessons/49993"
      ],
      "metadata": {
        "id": "HKiEbOPG1Tl3"
      }
    },
    {
      "cell_type": "code",
      "source": [
        "skill = 'CBD'\n",
        "skill_trees = [\"BACDE\", \"CBADF\", \"AECB\", \"BDA\"]\n",
        "flag = 0\n",
        "answer = 0\n",
        "\n",
        "for i in skill_trees:\n",
        "    "
      ],
      "metadata": {
        "colab": {
          "base_uri": "https://localhost:8080/"
        },
        "id": "M2aG6Kfa1Us_",
        "outputId": "f6d4eeb5-7268-4739-c642-810e8816d0d5"
      },
      "execution_count": null,
      "outputs": [
        {
          "output_type": "stream",
          "name": "stdout",
          "text": [
            "0 B\n",
            "1 A\n",
            "2 C\n",
            "3 D\n",
            "4 E\n",
            "0 C\n",
            "1 B\n",
            "2 A\n",
            "3 D\n",
            "4 F\n",
            "0 A\n",
            "1 E\n",
            "2 C\n",
            "3 B\n",
            "0 B\n",
            "1 D\n",
            "2 A\n"
          ]
        }
      ]
    },
    {
      "cell_type": "code",
      "source": [
        "# a = 'CBD'\n",
        "# b = 'CBADF'\n",
        "# s = {}\n",
        "# ss = {}\n",
        "# cnt = 0\n",
        "# li = []\n",
        "\n",
        "# for i, j in enumerate(a):\n",
        "#     s[i] = j\n",
        "\n",
        "# if s[0] in b:\n",
        "#     for i in s: \n",
        "#         ss[b.index(s[i])] = s[i]\n",
        "#     if s[0] == ss[0]:\n",
        "        \n",
        "\n",
        "#     else:\n",
        "#         cnt += 0\n",
        "    \n",
        "# else:\n",
        "#     cnt += 0\n",
        "\n",
        "\n"
      ],
      "metadata": {
        "id": "ISeYCQ-b4VYu"
      },
      "execution_count": 6,
      "outputs": []
    },
    {
      "cell_type": "code",
      "source": [
        "s"
      ],
      "metadata": {
        "colab": {
          "base_uri": "https://localhost:8080/"
        },
        "id": "_w6mPbFZPhyJ",
        "outputId": "ba688dad-9751-4f27-f4b0-f27e038700a8"
      },
      "execution_count": null,
      "outputs": [
        {
          "output_type": "execute_result",
          "data": {
            "text/plain": [
              "{0: 'C', 1: 'B', 2: 'D'}"
            ]
          },
          "metadata": {},
          "execution_count": 35
        }
      ]
    },
    {
      "cell_type": "code",
      "source": [
        "ss"
      ],
      "metadata": {
        "colab": {
          "base_uri": "https://localhost:8080/"
        },
        "id": "ys8fCizTQfJ6",
        "outputId": "3de06b0b-0234-4045-dc70-179389e1e8fe"
      },
      "execution_count": null,
      "outputs": [
        {
          "output_type": "execute_result",
          "data": {
            "text/plain": [
              "{0: 'C', 1: 'B', 3: 'D'}"
            ]
          },
          "metadata": {},
          "execution_count": 36
        }
      ]
    },
    {
      "cell_type": "markdown",
      "source": [
        "## 오픈채팅방 (Level 2)\n",
        "https://programmers.co.kr/learn/courses/30/lessons/42888?language=python3"
      ],
      "metadata": {
        "id": "I5A1cHAeVkhp"
      }
    },
    {
      "cell_type": "code",
      "source": [
        "\"\"\"\n",
        "(1) for문으로 record의 요소들을 돌면서 유저 아이디를 모은다.\n",
        "(2) 유저 아이디별로 닉네임이 어떻게 변화하는지 모은다.\n",
        "(3) 마지막 닉네임이 result에서 노출된다.\n",
        "(4) Enter와 Leave에 따라 문자를 출력한다.\n",
        "\"\"\"\n",
        "record = [\"Enter uid1234 Alvin\", \"Enter uid4567 Nova\", \"Enter uid1123 Jooie\", \"Leave uid1234\", \"Enter uid1255 Eden\",\"Change uid4567 Ryan\", \"Leave uid1123\"]\n",
        "\n",
        "# def solution(record):\n",
        "    \n",
        "user_id = {}\n",
        "result = []\n",
        "\n",
        "for i in record:\n",
        "    if len(i.split()) == 3:\n",
        "        user_id[i.split()[1]] = i.split()[2]\n",
        "\n",
        "for act in record:\n",
        "    for i, j in user_id.items():\n",
        "        if i == act.split()[1]:\n",
        "            if act.split()[0] != 'Change':\n",
        "                if act.split()[0] == 'Enter':\n",
        "                    result.append(f\"{j}님이 들어왔습니다.\")\n",
        "                elif act.split()[0] == 'Leave':\n",
        "                    result.append(f\"{j}님이 나갔습니다.\")\n",
        "print(result)                    "
      ],
      "metadata": {
        "id": "GVrFAi3QSse-",
        "colab": {
          "base_uri": "https://localhost:8080/"
        },
        "outputId": "684adde6-81f9-47d9-e5fc-c2320ad426a8"
      },
      "execution_count": null,
      "outputs": [
        {
          "output_type": "stream",
          "name": "stdout",
          "text": [
            "['Alvin님이 들어왔습니다.', 'Ryan님이 들어왔습니다.', 'Jooie님이 들어왔습니다.', 'Alvin님이 나갔습니다.', 'Eden님이 들어왔습니다.', 'Jooie님이 나갔습니다.']\n"
          ]
        }
      ]
    },
    {
      "cell_type": "markdown",
      "source": [
        "## 124 나라의 숫자 (Level 2)\n",
        "https://programmers.co.kr/learn/courses/30/lessons/12899"
      ],
      "metadata": {
        "id": "WXfRWf-bVjel"
      }
    },
    {
      "cell_type": "code",
      "source": [
        "\"\"\"\n",
        "설계\n",
        "(1) 1, 2, 4로만 구성\n",
        "(2) return 숫자: 1, 2, 4, 11, 12, 14, 21, 22, 24, 41, 42, 44, 111, ...\n",
        "ex. 5 -> \n",
        "\"\"\""
      ],
      "metadata": {
        "colab": {
          "base_uri": "https://localhost:8080/",
          "height": 35
        },
        "id": "VdvLS6mDPBRX",
        "outputId": "a2176756-97ae-46d5-e766-22cc9858b037"
      },
      "execution_count": 3,
      "outputs": [
        {
          "output_type": "execute_result",
          "data": {
            "text/plain": [
              "'\\n설계\\n(1) 1, 2, 4로만 구성\\n(2) \\n'"
            ],
            "application/vnd.google.colaboratory.intrinsic+json": {
              "type": "string"
            }
          },
          "metadata": {},
          "execution_count": 3
        }
      ]
    },
    {
      "cell_type": "markdown",
      "source": [
        "## 구명보트 (Level 2, 탐욕법)\n",
        "https://programmers.co.kr/learn/courses/30/lessons/42885"
      ],
      "metadata": {
        "id": "FZoNXn0RXOg8"
      }
    },
    {
      "cell_type": "code",
      "source": [
        "from itertools import combinations\n",
        "people = [70, 50, 80, 50]\n",
        "limit = 100\n",
        "\n",
        "# people = sorted(people, reverse=True)\n",
        "peo = list(combinations(people, 2))\n",
        "\n",
        "for i in peo:\n",
        "    print(i)\n",
        "    sum_i = sum(i)\n",
        "\n",
        "    if sum_i <= limit:\n",
        "        limit -= sum_i\n",
        "        for x in i:\n",
        "            people.remove(x)\n",
        "        \n",
        "        if sum_i == 0:\n",
        "            \n",
        "        else:  # \n"
      ],
      "metadata": {
        "colab": {
          "base_uri": "https://localhost:8080/"
        },
        "id": "2VhyQXq_bWIO",
        "outputId": "91b753e0-e583-441b-dd4c-1dfb4f8fc4dd"
      },
      "execution_count": 16,
      "outputs": [
        {
          "output_type": "stream",
          "name": "stdout",
          "text": [
            "(70, 50)\n",
            "120\n",
            "(70, 80)\n",
            "150\n",
            "(70, 50)\n",
            "120\n",
            "(50, 80)\n",
            "130\n",
            "(50, 50)\n",
            "100\n",
            "(80, 50)\n",
            "130\n"
          ]
        }
      ]
    },
    {
      "cell_type": "code",
      "source": [
        "people"
      ],
      "metadata": {
        "colab": {
          "base_uri": "https://localhost:8080/"
        },
        "id": "UaTvQpLId6ML",
        "outputId": "a53b3174-c05a-44d0-a4fa-9b63c4f61826"
      },
      "execution_count": 12,
      "outputs": [
        {
          "output_type": "execute_result",
          "data": {
            "text/plain": [
              "[80, 70, 50, 50]"
            ]
          },
          "metadata": {},
          "execution_count": 12
        }
      ]
    },
    {
      "cell_type": "code",
      "source": [
        "a = (50, 50)\n",
        "people.remove([x for x in a])"
      ],
      "metadata": {
        "colab": {
          "base_uri": "https://localhost:8080/",
          "height": 193
        },
        "id": "hEcfRvOpd862",
        "outputId": "412940cf-af9d-43db-c09f-0b2533b7c975"
      },
      "execution_count": 20,
      "outputs": [
        {
          "output_type": "error",
          "ename": "ValueError",
          "evalue": "ignored",
          "traceback": [
            "\u001b[0;31m---------------------------------------------------------------------------\u001b[0m",
            "\u001b[0;31mValueError\u001b[0m                                Traceback (most recent call last)",
            "\u001b[0;32m<ipython-input-20-2730fccd2f43>\u001b[0m in \u001b[0;36m<module>\u001b[0;34m()\u001b[0m\n\u001b[1;32m      1\u001b[0m \u001b[0ma\u001b[0m \u001b[0;34m=\u001b[0m \u001b[0;34m(\u001b[0m\u001b[0;36m50\u001b[0m\u001b[0;34m,\u001b[0m \u001b[0;36m50\u001b[0m\u001b[0;34m)\u001b[0m\u001b[0;34m\u001b[0m\u001b[0;34m\u001b[0m\u001b[0m\n\u001b[0;32m----> 2\u001b[0;31m \u001b[0mpeople\u001b[0m\u001b[0;34m.\u001b[0m\u001b[0mremove\u001b[0m\u001b[0;34m(\u001b[0m\u001b[0;34m[\u001b[0m\u001b[0mx\u001b[0m \u001b[0;32mfor\u001b[0m \u001b[0mx\u001b[0m \u001b[0;32min\u001b[0m \u001b[0ma\u001b[0m\u001b[0;34m]\u001b[0m\u001b[0;34m)\u001b[0m\u001b[0;34m\u001b[0m\u001b[0;34m\u001b[0m\u001b[0m\n\u001b[0m",
            "\u001b[0;31mValueError\u001b[0m: list.remove(x): x not in list"
          ]
        }
      ]
    },
    {
      "cell_type": "code",
      "source": [
        "for x in a:\n",
        "    print(x)"
      ],
      "metadata": {
        "colab": {
          "base_uri": "https://localhost:8080/"
        },
        "id": "gT8vKrVFiFQq",
        "outputId": "d36ab6c6-bbb3-4f13-f3d2-f09b2b4da1a0"
      },
      "execution_count": 21,
      "outputs": [
        {
          "output_type": "stream",
          "name": "stdout",
          "text": [
            "50\n",
            "50\n"
          ]
        }
      ]
    },
    {
      "cell_type": "code",
      "source": [
        "people.remove(50)"
      ],
      "metadata": {
        "id": "o-JtiBQPipbj"
      },
      "execution_count": 24,
      "outputs": []
    },
    {
      "cell_type": "code",
      "source": [
        "people"
      ],
      "metadata": {
        "colab": {
          "base_uri": "https://localhost:8080/"
        },
        "id": "avNSyooPiqzt",
        "outputId": "b8598770-aca9-4970-b4dd-0f71519d7b8a"
      },
      "execution_count": 25,
      "outputs": [
        {
          "output_type": "execute_result",
          "data": {
            "text/plain": [
              "[70, 80, 50]"
            ]
          },
          "metadata": {},
          "execution_count": 25
        }
      ]
    },
    {
      "cell_type": "code",
      "source": [
        "[x for x in (50, 50)]"
      ],
      "metadata": {
        "colab": {
          "base_uri": "https://localhost:8080/"
        },
        "id": "YPOPWOEhivre",
        "outputId": "3df6fd51-2d51-48ed-b8b5-8114b2e4a066"
      },
      "execution_count": 29,
      "outputs": [
        {
          "output_type": "execute_result",
          "data": {
            "text/plain": [
              "[50, 50]"
            ]
          },
          "metadata": {},
          "execution_count": 29
        }
      ]
    },
    {
      "cell_type": "code",
      "source": [
        ""
      ],
      "metadata": {
        "id": "p833TsRliy7z"
      },
      "execution_count": null,
      "outputs": []
    }
  ]
}