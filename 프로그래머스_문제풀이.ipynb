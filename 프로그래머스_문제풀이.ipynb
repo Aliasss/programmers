{
  "nbformat": 4,
  "nbformat_minor": 0,
  "metadata": {
    "colab": {
      "name": "프로그래머스_문제풀이.ipynb",
      "provenance": [],
      "collapsed_sections": [],
      "authorship_tag": "ABX9TyMdsiTBzilwzxgKEEk9/SPA",
      "include_colab_link": true
    },
    "kernelspec": {
      "name": "python3",
      "display_name": "Python 3"
    },
    "language_info": {
      "name": "python"
    }
  },
  "cells": [
    {
      "cell_type": "markdown",
      "metadata": {
        "id": "view-in-github",
        "colab_type": "text"
      },
      "source": [
        "<a href=\"https://colab.research.google.com/github/Aliasss/programmers/blob/master/%ED%94%84%EB%A1%9C%EA%B7%B8%EB%9E%98%EB%A8%B8%EC%8A%A4_%EB%AC%B8%EC%A0%9C%ED%92%80%EC%9D%B4.ipynb\" target=\"_parent\"><img src=\"https://colab.research.google.com/assets/colab-badge.svg\" alt=\"Open In Colab\"/></a>"
      ]
    },
    {
      "cell_type": "code",
      "execution_count": 1,
      "metadata": {
        "colab": {
          "base_uri": "https://localhost:8080/"
        },
        "id": "1oDpVIJDO6gQ",
        "outputId": "a18ab73a-0d31-40c7-d3a7-15df7c3b3f28"
      },
      "outputs": [
        {
          "output_type": "stream",
          "name": "stdout",
          "text": [
            "[1, 2, 3, 4, 6, 8, 12, 24]\n",
            "[1, 5, 25]\n",
            "[1, 2, 13, 26]\n",
            "[1, 3, 9, 27]\n"
          ]
        },
        {
          "output_type": "execute_result",
          "data": {
            "text/plain": [
              "52"
            ]
          },
          "metadata": {},
          "execution_count": 1
        }
      ],
      "source": [
        "left = 24\n",
        "right = 27\n",
        "answer = 0\n",
        "\n",
        "for a in range(left, right+1):\n",
        "    n = 0\n",
        "    li = []\n",
        "\n",
        "    while n <= a:\n",
        "        n += 1\n",
        "        if a % n == 0:\n",
        "            li.append(n)\n",
        "        else:\n",
        "            continue\n",
        "    print(li)\n",
        "    if len(li) % 2 == 0: \n",
        "        answer += a\n",
        "    else:\n",
        "        answer -= a\n",
        "\n",
        "answer"
      ]
    },
    {
      "cell_type": "code",
      "source": [
        "li"
      ],
      "metadata": {
        "colab": {
          "base_uri": "https://localhost:8080/"
        },
        "id": "We3HhRfdPqsd",
        "outputId": "adad873f-7df5-4d54-ead7-3cb8bc9de551"
      },
      "execution_count": null,
      "outputs": [
        {
          "output_type": "execute_result",
          "data": {
            "text/plain": [
              "[1, 2, 3, 4, 6, 8, 12, 24]"
            ]
          },
          "metadata": {},
          "execution_count": 7
        }
      ]
    },
    {
      "cell_type": "code",
      "source": [
        "for i in range(left, right+1):\n",
        "    print(i)"
      ],
      "metadata": {
        "colab": {
          "base_uri": "https://localhost:8080/"
        },
        "id": "N53JBdKuPuKW",
        "outputId": "50cf7f75-29d4-46cc-a080-f447a9ca253a"
      },
      "execution_count": null,
      "outputs": [
        {
          "output_type": "stream",
          "name": "stdout",
          "text": [
            "13\n",
            "14\n",
            "15\n",
            "16\n",
            "17\n"
          ]
        }
      ]
    },
    {
      "cell_type": "code",
      "source": [
        ""
      ],
      "metadata": {
        "id": "EaaSnqJvSZj0"
      },
      "execution_count": null,
      "outputs": []
    }
  ]
}