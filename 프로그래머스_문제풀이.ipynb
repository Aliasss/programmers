{
  "nbformat": 4,
  "nbformat_minor": 0,
  "metadata": {
    "colab": {
      "name": "프로그래머스_문제풀이.ipynb",
      "provenance": [],
      "collapsed_sections": [],
      "authorship_tag": "ABX9TyMgcHsr7SpqJKgJPCg7OU31"
    },
    "kernelspec": {
      "name": "python3",
      "display_name": "Python 3"
    },
    "language_info": {
      "name": "python"
    }
  },
  "cells": [
    {
      "cell_type": "code",
      "execution_count": null,
      "metadata": {
        "colab": {
          "base_uri": "https://localhost:8080/"
        },
        "id": "1oDpVIJDO6gQ",
        "outputId": "a18ab73a-0d31-40c7-d3a7-15df7c3b3f28"
      },
      "outputs": [
        {
          "output_type": "stream",
          "name": "stdout",
          "text": [
            "[1, 2, 3, 4, 6, 8, 12, 24]\n",
            "[1, 5, 25]\n",
            "[1, 2, 13, 26]\n",
            "[1, 3, 9, 27]\n"
          ]
        },
        {
          "output_type": "execute_result",
          "data": {
            "text/plain": [
              "52"
            ]
          },
          "metadata": {},
          "execution_count": 1
        }
      ],
      "source": [
        "left = 24\n",
        "right = 27\n",
        "answer = 0\n",
        "\n",
        "for a in range(left, right+1):\n",
        "    n = 0\n",
        "    li = []\n",
        "\n",
        "    while n <= a:\n",
        "        n += 1\n",
        "        if a % n == 0:\n",
        "            li.append(n)\n",
        "        else:\n",
        "            continue\n",
        "    print(li)\n",
        "    if len(li) % 2 == 0: \n",
        "        answer += a\n",
        "    else:\n",
        "        answer -= a\n",
        "\n",
        "answer"
      ]
    },
    {
      "cell_type": "markdown",
      "source": [
        "## 2021 카카오 채용연계형 인턴십 > 숫자 문자열과 영단어\n",
        "https://programmers.co.kr/learn/courses/30/lessons/81301"
      ],
      "metadata": {
        "id": "gz2myxY5fPIw"
      }
    },
    {
      "cell_type": "code",
      "source": [
        "d = {0:'zero', 1:'one', 2:'two', 3:'three', 4:'four', 5:'five', 6:'six', 7:'seven', 8:'eight', 9:'nine'}\n",
        "s = 'one4seveneight'\n",
        "\n",
        "for i, j in d.items():\n",
        "    s = str(i).join(s.split(j))\n",
        "    \n",
        "\n",
        "s = int(s)\n",
        "s"
      ],
      "metadata": {
        "colab": {
          "base_uri": "https://localhost:8080/"
        },
        "id": "N53JBdKuPuKW",
        "outputId": "91c3774a-e2bc-4476-88c4-43957c9cd437"
      },
      "execution_count": null,
      "outputs": [
        {
          "output_type": "execute_result",
          "data": {
            "text/plain": [
              "1478"
            ]
          },
          "metadata": {},
          "execution_count": 18
        }
      ]
    },
    {
      "cell_type": "markdown",
      "source": [
        "## Summer/Winter Coding(~2018) > 예산\n",
        "https://programmers.co.kr/learn/courses/30/lessons/12982"
      ],
      "metadata": {
        "id": "U3Q0b5H8p5AM"
      }
    },
    {
      "cell_type": "code",
      "source": [
        "d = [100]\n",
        "budget = 101\n",
        "result = 0\n",
        "\n",
        "while budget >= min(d):\n",
        "    if min(d) <= budget:\n",
        "        result += 1\n",
        "        budget -= min(d)\n",
        "        d.remove(min(d))\n",
        "    \n",
        "    # 부서가 1개인 경우\n",
        "    if len(d) == 0:\n",
        "        break\n",
        "\n",
        "    # 예산이 0원인 경우\n",
        "    if budget == 0:\n",
        "        break\n",
        "\n",
        "result"
      ],
      "metadata": {
        "id": "EaaSnqJvSZj0",
        "colab": {
          "base_uri": "https://localhost:8080/"
        },
        "outputId": "2a184b27-36fc-47e5-ff05-b5af923b5331"
      },
      "execution_count": null,
      "outputs": [
        {
          "output_type": "execute_result",
          "data": {
            "text/plain": [
              "1"
            ]
          },
          "metadata": {},
          "execution_count": 54
        }
      ]
    },
    {
      "cell_type": "markdown",
      "source": [
        "## Summer/Winter Coding(~2018) > 소수 만들기\n",
        "https://programmers.co.kr/learn/courses/30/lessons/12977"
      ],
      "metadata": {
        "id": "vS4YwvOEujgi"
      }
    },
    {
      "cell_type": "code",
      "source": [
        "from itertools import combinations\n",
        "\n",
        "# nums의 각 요소는 1 이상\n",
        "nums = [1, 2, 3, 4]\n",
        "num_sum = 0\n",
        "result = 0\n",
        "check = []\n",
        "\n",
        "combi = list(combinations(nums, 3))\n",
        "\n",
        "for i in combi:\n",
        "    num_sum = sum(i)\n",
        "    # print(num_sum)\n",
        "    if num_sum == 3:\n",
        "        result += 1\n",
        "\n",
        "    else:\n",
        "        for i in range(2, int(num_sum ** 0.5) + 1):  # 약수, 제곱근 개념\n",
        "            if num_sum % i == 0:\n",
        "                check.append(1)\n",
        "                continue\n",
        "            else:\n",
        "                check.append(0)\n",
        "\n",
        "        if 1 not in check:\n",
        "            result += 1\n",
        "\n",
        "        check = []\n",
        "\n",
        "result"
      ],
      "metadata": {
        "colab": {
          "base_uri": "https://localhost:8080/"
        },
        "id": "9aYvOQ4IqZtV",
        "outputId": "f99cb0f5-b52d-415e-8c73-63ebab7b3dd3"
      },
      "execution_count": 83,
      "outputs": [
        {
          "output_type": "execute_result",
          "data": {
            "text/plain": [
              "1"
            ]
          },
          "metadata": {},
          "execution_count": 83
        }
      ]
    },
    {
      "cell_type": "code",
      "source": [
        ""
      ],
      "metadata": {
        "id": "R_f9R9pY3CvC"
      },
      "execution_count": null,
      "outputs": []
    }
  ]
}